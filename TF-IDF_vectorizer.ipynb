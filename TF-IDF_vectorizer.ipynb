{
 "cells": [
  {
   "cell_type": "code",
   "execution_count": 2,
   "metadata": {},
   "outputs": [],
   "source": [
    "import nltk\n",
    "import re\n",
    "from nltk.stem import PorterStemmer\n",
    "from nltk.stem import WordNetLemmatizer\n",
    "from nltk.corpus import stopwords"
   ]
  },
  {
   "cell_type": "code",
   "execution_count": 3,
   "metadata": {},
   "outputs": [],
   "source": [
    "paragraph = \"In 3000 years of our history, people from all over the world have come and invaded us, captured our lands and conquered our minds. Yet, we have not conquered anyone. Because, we respect the freedom of others, and that is the reason for his first vision of Freedom. India got its first vision of this in the Indian Rebellion in the year 1857, when we started the war of Independence. It is this freedom that we must protect and nurture and build on.\""
   ]
  },
  {
   "cell_type": "code",
   "execution_count": 4,
   "metadata": {},
   "outputs": [
    {
     "data": {
      "text/plain": [
       "'In 3000 years of our history, people from all over the world have come and invaded us, captured our lands and conquered our minds. Yet, we have not conquered anyone. Because, we respect the freedom of others, and that is the reason for his first vision of Freedom. India got its first vision of this in the Indian Rebellion in the year 1857, when we started the war of Independence. It is this freedom that we must protect and nurture and build on.'"
      ]
     },
     "execution_count": 4,
     "metadata": {},
     "output_type": "execute_result"
    }
   ],
   "source": [
    "paragraph"
   ]
  },
  {
   "cell_type": "code",
   "execution_count": 9,
   "metadata": {},
   "outputs": [],
   "source": [
    "stemmer = PorterStemmer()\n",
    "lemmatizer = WordNetLemmatizer()"
   ]
  },
  {
   "cell_type": "code",
   "execution_count": 10,
   "metadata": {},
   "outputs": [],
   "source": [
    "sentences = nltk.sent_tokenize(paragraph)"
   ]
  },
  {
   "cell_type": "code",
   "execution_count": 11,
   "metadata": {},
   "outputs": [
    {
     "data": {
      "text/plain": [
       "['In 3000 years of our history, people from all over the world have come and invaded us, captured our lands and conquered our minds.',\n",
       " 'Yet, we have not conquered anyone.',\n",
       " 'Because, we respect the freedom of others, and that is the reason for his first vision of Freedom.',\n",
       " 'India got its first vision of this in the Indian Rebellion in the year 1857, when we started the war of Independence.',\n",
       " 'It is this freedom that we must protect and nurture and build on.']"
      ]
     },
     "execution_count": 11,
     "metadata": {},
     "output_type": "execute_result"
    }
   ],
   "source": [
    "sentences"
   ]
  },
  {
   "cell_type": "code",
   "execution_count": 19,
   "metadata": {},
   "outputs": [],
   "source": [
    "corpus = []"
   ]
  },
  {
   "cell_type": "code",
   "execution_count": 20,
   "metadata": {},
   "outputs": [
    {
     "name": "stdout",
     "output_type": "stream",
     "text": [
      "year history people world come invaded u captured land conquered mind\n",
      "yet conquered anyone\n",
      "respect freedom others reason first vision freedom\n",
      "india got first vision indian rebellion year started war independence\n",
      "freedom must protect nurture build\n"
     ]
    }
   ],
   "source": [
    "for i in range(len(sentences)):\n",
    "    review = re.sub('[^a-zA-Z]',' ',sentences[i])\n",
    "    review = review.lower()\n",
    "    review = review.split()\n",
    "    review = [lemmatizer.lemmatize(word) for word in review if word not in set(stopwords.words('english'))]\n",
    "    review = ' '.join(review)\n",
    "    print(review)\n",
    "    corpus.append(review)\n",
    "    "
   ]
  },
  {
   "cell_type": "code",
   "execution_count": 21,
   "metadata": {},
   "outputs": [
    {
     "data": {
      "text/plain": [
       "['year history people world come invaded u captured land conquered mind',\n",
       " 'yet conquered anyone',\n",
       " 'respect freedom others reason first vision freedom',\n",
       " 'india got first vision indian rebellion year started war independence',\n",
       " 'freedom must protect nurture build']"
      ]
     },
     "execution_count": 21,
     "metadata": {},
     "output_type": "execute_result"
    }
   ],
   "source": [
    "corpus"
   ]
  },
  {
   "cell_type": "code",
   "execution_count": 24,
   "metadata": {},
   "outputs": [],
   "source": [
    "#creating the TF-IDF model\n",
    "from sklearn.feature_extraction.text import TfidfVectorizer\n",
    "#from sklearn.feature_extraction.text import TfidfVectorizer\n"
   ]
  },
  {
   "cell_type": "code",
   "execution_count": 25,
   "metadata": {},
   "outputs": [],
   "source": [
    "tfidf = TfidfVectorizer()"
   ]
  },
  {
   "cell_type": "code",
   "execution_count": 28,
   "metadata": {},
   "outputs": [],
   "source": [
    "X = tfidf.fit_transform(corpus).toarray()"
   ]
  },
  {
   "cell_type": "code",
   "execution_count": 29,
   "metadata": {},
   "outputs": [
    {
     "data": {
      "text/plain": [
       "array([[0.        , 0.        , 0.32788062, 0.32788062, 0.26453202,\n",
       "        0.        , 0.        , 0.        , 0.32788062, 0.        ,\n",
       "        0.        , 0.        , 0.32788062, 0.32788062, 0.32788062,\n",
       "        0.        , 0.        , 0.        , 0.32788062, 0.        ,\n",
       "        0.        , 0.        , 0.        , 0.        , 0.        ,\n",
       "        0.        , 0.32788062, 0.26453202, 0.        ],\n",
       "       [0.61418897, 0.        , 0.        , 0.        , 0.49552379,\n",
       "        0.        , 0.        , 0.        , 0.        , 0.        ,\n",
       "        0.        , 0.        , 0.        , 0.        , 0.        ,\n",
       "        0.        , 0.        , 0.        , 0.        , 0.        ,\n",
       "        0.        , 0.        , 0.        , 0.        , 0.        ,\n",
       "        0.        , 0.        , 0.        , 0.61418897],\n",
       "       [0.        , 0.        , 0.        , 0.        , 0.        ,\n",
       "        0.30701885, 0.61403771, 0.        , 0.        , 0.        ,\n",
       "        0.        , 0.        , 0.        , 0.        , 0.        ,\n",
       "        0.        , 0.        , 0.38054196, 0.        , 0.        ,\n",
       "        0.38054196, 0.        , 0.38054196, 0.        , 0.30701885,\n",
       "        0.        , 0.        , 0.        , 0.        ],\n",
       "       [0.        , 0.        , 0.        , 0.        , 0.        ,\n",
       "        0.26964   , 0.        , 0.33421183, 0.        , 0.33421183,\n",
       "        0.33421183, 0.33421183, 0.        , 0.        , 0.        ,\n",
       "        0.        , 0.        , 0.        , 0.        , 0.        ,\n",
       "        0.        , 0.33421183, 0.        , 0.33421183, 0.26964   ,\n",
       "        0.33421183, 0.        , 0.26964   , 0.        ],\n",
       "       [0.        , 0.46369322, 0.        , 0.        , 0.        ,\n",
       "        0.        , 0.37410477, 0.        , 0.        , 0.        ,\n",
       "        0.        , 0.        , 0.        , 0.        , 0.        ,\n",
       "        0.46369322, 0.46369322, 0.        , 0.        , 0.46369322,\n",
       "        0.        , 0.        , 0.        , 0.        , 0.        ,\n",
       "        0.        , 0.        , 0.        , 0.        ]])"
      ]
     },
     "execution_count": 29,
     "metadata": {},
     "output_type": "execute_result"
    }
   ],
   "source": [
    "X"
   ]
  },
  {
   "cell_type": "code",
   "execution_count": null,
   "metadata": {},
   "outputs": [],
   "source": []
  }
 ],
 "metadata": {
  "kernelspec": {
   "display_name": "Python 3",
   "language": "python",
   "name": "python3"
  },
  "language_info": {
   "codemirror_mode": {
    "name": "ipython",
    "version": 3
   },
   "file_extension": ".py",
   "mimetype": "text/x-python",
   "name": "python",
   "nbconvert_exporter": "python",
   "pygments_lexer": "ipython3",
   "version": "3.7.6"
  }
 },
 "nbformat": 4,
 "nbformat_minor": 4
}
