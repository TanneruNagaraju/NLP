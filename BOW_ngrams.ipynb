{
 "cells": [
  {
   "cell_type": "code",
   "execution_count": 23,
   "metadata": {},
   "outputs": [],
   "source": [
    "import pandas as pd\n",
    "from sklearn.feature_extraction.text import CountVectorizer"
   ]
  },
  {
   "cell_type": "code",
   "execution_count": 24,
   "metadata": {},
   "outputs": [],
   "source": [
    "data = pd.read_csv(\"C:/Users/TANNERU/Downloads/Dataset for coding/ngrams.csv\")"
   ]
  },
  {
   "cell_type": "code",
   "execution_count": 25,
   "metadata": {},
   "outputs": [
    {
     "data": {
      "text/html": [
       "<div>\n",
       "<style scoped>\n",
       "    .dataframe tbody tr th:only-of-type {\n",
       "        vertical-align: middle;\n",
       "    }\n",
       "\n",
       "    .dataframe tbody tr th {\n",
       "        vertical-align: top;\n",
       "    }\n",
       "\n",
       "    .dataframe thead th {\n",
       "        text-align: right;\n",
       "    }\n",
       "</style>\n",
       "<table border=\"1\" class=\"dataframe\">\n",
       "  <thead>\n",
       "    <tr style=\"text-align: right;\">\n",
       "      <th></th>\n",
       "      <th>test</th>\n",
       "    </tr>\n",
       "  </thead>\n",
       "  <tbody>\n",
       "    <tr>\n",
       "      <th>0</th>\n",
       "      <td>this mobile is good</td>\n",
       "    </tr>\n",
       "    <tr>\n",
       "      <th>1</th>\n",
       "      <td>this mobile is not good</td>\n",
       "    </tr>\n",
       "    <tr>\n",
       "      <th>2</th>\n",
       "      <td>this mobile works fine and affordable</td>\n",
       "    </tr>\n",
       "    <tr>\n",
       "      <th>3</th>\n",
       "      <td>mobile is cheap and mobile is best</td>\n",
       "    </tr>\n",
       "  </tbody>\n",
       "</table>\n",
       "</div>"
      ],
      "text/plain": [
       "                                    test\n",
       "0                    this mobile is good\n",
       "1                this mobile is not good\n",
       "2  this mobile works fine and affordable\n",
       "3     mobile is cheap and mobile is best"
      ]
     },
     "execution_count": 25,
     "metadata": {},
     "output_type": "execute_result"
    }
   ],
   "source": [
    "data"
   ]
  },
  {
   "cell_type": "code",
   "execution_count": 26,
   "metadata": {},
   "outputs": [],
   "source": [
    "feedback = []"
   ]
  },
  {
   "cell_type": "code",
   "execution_count": 27,
   "metadata": {},
   "outputs": [
    {
     "name": "stdout",
     "output_type": "stream",
     "text": [
      "this mobile is good\n",
      "this mobile is not good\n",
      "this mobile works fine and affordable\n",
      "mobile is cheap and mobile is best\n"
     ]
    }
   ],
   "source": [
    "for i in data['test'].values:\n",
    "    senten = ' '.join(e for e in i.split())\n",
    "    print(senten)\n",
    "    feedback.append(senten.lower().strip()) # converting to lower and removing white spaces\n",
    "    #print(feedback)"
   ]
  },
  {
   "cell_type": "code",
   "execution_count": 28,
   "metadata": {},
   "outputs": [
    {
     "data": {
      "text/plain": [
       "['this mobile is good',\n",
       " 'this mobile is not good',\n",
       " 'this mobile works fine and affordable',\n",
       " 'mobile is cheap and mobile is best']"
      ]
     },
     "execution_count": 28,
     "metadata": {},
     "output_type": "execute_result"
    }
   ],
   "source": [
    "feedback"
   ]
  },
  {
   "cell_type": "code",
   "execution_count": 29,
   "metadata": {},
   "outputs": [],
   "source": [
    "# means combination of 1 and 2 words (1,2)--> means 1 combination and 2 combination\n",
    "# if ngram_range(1,5) means combination of  1word,2 words,3words,4words,5 words to make sentence meaningful\n",
    "vectorizer = CountVectorizer()\n",
    "#vectorizer = CountVectorizer(ngram_range = (1,2))\n",
    "#vectorizer = Countvectorizer(ngram_range = (1,5))\n"
   ]
  },
  {
   "cell_type": "code",
   "execution_count": 31,
   "metadata": {},
   "outputs": [],
   "source": [
    "text_bow = vectorizer.fit_transform(feedback)"
   ]
  },
  {
   "cell_type": "code",
   "execution_count": 32,
   "metadata": {},
   "outputs": [
    {
     "data": {
      "text/plain": [
       "['affordable',\n",
       " 'and',\n",
       " 'best',\n",
       " 'cheap',\n",
       " 'fine',\n",
       " 'good',\n",
       " 'is',\n",
       " 'mobile',\n",
       " 'not',\n",
       " 'this',\n",
       " 'works']"
      ]
     },
     "execution_count": 32,
     "metadata": {},
     "output_type": "execute_result"
    }
   ],
   "source": [
    "vectorizer.get_feature_names() #displays words in ascending order to the given sentences"
   ]
  },
  {
   "cell_type": "code",
   "execution_count": 33,
   "metadata": {},
   "outputs": [
    {
     "name": "stdout",
     "output_type": "stream",
     "text": [
      "[[0 0 0 0 0 1 1 1 0 1 0]\n",
      " [0 0 0 0 0 1 1 1 1 1 0]\n",
      " [1 1 0 0 1 0 0 1 0 1 1]\n",
      " [0 1 1 1 0 0 2 2 0 0 0]]\n"
     ]
    }
   ],
   "source": [
    "print(text_bow.toarray())"
   ]
  },
  {
   "cell_type": "code",
   "execution_count": null,
   "metadata": {},
   "outputs": [],
   "source": []
  }
 ],
 "metadata": {
  "kernelspec": {
   "display_name": "Python 3",
   "language": "python",
   "name": "python3"
  },
  "language_info": {
   "codemirror_mode": {
    "name": "ipython",
    "version": 3
   },
   "file_extension": ".py",
   "mimetype": "text/x-python",
   "name": "python",
   "nbconvert_exporter": "python",
   "pygments_lexer": "ipython3",
   "version": "3.7.6"
  }
 },
 "nbformat": 4,
 "nbformat_minor": 4
}
